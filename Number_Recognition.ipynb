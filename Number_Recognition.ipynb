{
  "nbformat": 4,
  "nbformat_minor": 0,
  "metadata": {
    "colab": {
      "provenance": [],
      "authorship_tag": "ABX9TyN67ibJdGU0WVao6FdL7uTj",
      "include_colab_link": true
    },
    "kernelspec": {
      "name": "python3",
      "display_name": "Python 3"
    },
    "language_info": {
      "name": "python"
    }
  },
  "cells": [
    {
      "cell_type": "markdown",
      "metadata": {
        "id": "view-in-github",
        "colab_type": "text"
      },
      "source": [
        "<a href=\"https://colab.research.google.com/github/indrajaasree/Number-Recognition/blob/main/Number_Recognition.ipynb\" target=\"_parent\"><img src=\"https://colab.research.google.com/assets/colab-badge.svg\" alt=\"Open In Colab\"/></a>"
      ]
    },
    {
      "cell_type": "code",
      "source": [
        "# Step 1: Import Libraries\n",
        "import numpy as np\n",
        "import matplotlib.pyplot as plt\n",
        "from keras.datasets import mnist\n",
        "from keras.models import Sequential\n",
        "from keras.layers import Dense\n",
        "from tensorflow.keras.utils import to_categorical\n",
        "\n",
        "# Step 2: Load Dataset\n",
        "(X_train, y_train), (X_test, y_test) = mnist.load_data()\n",
        "\n",
        "# Step 3: Preprocess Data\n",
        "num_pixels = X_train.shape[1] * X_train.shape[2]\n",
        "X_train = X_train.reshape((X_train.shape[0], num_pixels)).astype('float32')\n",
        "X_test = X_test.reshape((X_test.shape[0], num_pixels)).astype('float32')\n",
        "\n",
        "# normalize inputs from 0-255 to 0-1\n",
        "X_train = X_train / 255\n",
        "X_test = X_test / 255\n",
        "\n",
        "# Step 4: One Hot Encode Outputs\n",
        "y_train = to_categorical(y_train)\n",
        "y_test = to_categorical(y_test)\n",
        "num_classes = y_test.shape[1]\n",
        "\n",
        "# Step 5: Build Neural Network\n",
        "def baseline_model():\n",
        "    model = Sequential()\n",
        "    model.add(Dense(num_pixels, input_dim=num_pixels, kernel_initializer='normal', activation='relu'))\n",
        "    model.add(Dense(num_classes, kernel_initializer='normal', activation='softmax'))\n",
        "    model.compile(loss='categorical_crossentropy', optimizer='adam', metrics=['accuracy'])\n",
        "    return model\n",
        "\n",
        "model = baseline_model()\n",
        "\n",
        "# Step 6: Train Model\n",
        "model.fit(X_train, y_train, validation_data=(X_test, y_test), epochs=10, batch_size=200)\n",
        "\n",
        "# Step 7: Evaluate Model\n",
        "scores = model.evaluate(X_test, y_test)\n",
        "print(\"Baseline Error: %.2f%%\" % (100-scores[1]*100))\n"
      ],
      "metadata": {
        "colab": {
          "base_uri": "https://localhost:8080/"
        },
        "id": "AE2kL19iiiqO",
        "outputId": "3eaa5067-cc5d-4b2e-f320-9b271e1359ba"
      },
      "execution_count": null,
      "outputs": [
        {
          "output_type": "stream",
          "name": "stdout",
          "text": [
            "Epoch 1/10\n",
            "300/300 [==============================] - 7s 18ms/step - loss: 0.2801 - accuracy: 0.9201 - val_loss: 0.1554 - val_accuracy: 0.9527\n",
            "Epoch 2/10\n",
            "300/300 [==============================] - 7s 22ms/step - loss: 0.1113 - accuracy: 0.9677 - val_loss: 0.0946 - val_accuracy: 0.9707\n",
            "Epoch 3/10\n",
            "300/300 [==============================] - 6s 18ms/step - loss: 0.0704 - accuracy: 0.9795 - val_loss: 0.0840 - val_accuracy: 0.9745\n",
            "Epoch 4/10\n",
            "300/300 [==============================] - 6s 19ms/step - loss: 0.0497 - accuracy: 0.9861 - val_loss: 0.0750 - val_accuracy: 0.9754\n",
            "Epoch 5/10\n",
            "300/300 [==============================] - 6s 20ms/step - loss: 0.0371 - accuracy: 0.9895 - val_loss: 0.0662 - val_accuracy: 0.9792\n",
            "Epoch 6/10\n",
            "300/300 [==============================] - 5s 17ms/step - loss: 0.0263 - accuracy: 0.9931 - val_loss: 0.0626 - val_accuracy: 0.9793\n",
            "Epoch 7/10\n",
            "300/300 [==============================] - 7s 22ms/step - loss: 0.0186 - accuracy: 0.9956 - val_loss: 0.0566 - val_accuracy: 0.9826\n",
            "Epoch 8/10\n",
            "300/300 [==============================] - 5s 17ms/step - loss: 0.0143 - accuracy: 0.9967 - val_loss: 0.0642 - val_accuracy: 0.9795\n",
            "Epoch 9/10\n",
            "300/300 [==============================] - 6s 21ms/step - loss: 0.0106 - accuracy: 0.9979 - val_loss: 0.0594 - val_accuracy: 0.9814\n",
            "Epoch 10/10\n",
            "300/300 [==============================] - 5s 18ms/step - loss: 0.0080 - accuracy: 0.9986 - val_loss: 0.0655 - val_accuracy: 0.9797\n",
            "313/313 [==============================] - 1s 3ms/step - loss: 0.0655 - accuracy: 0.9797\n",
            "Baseline Error: 2.03%\n"
          ]
        }
      ]
    }
  ]
}